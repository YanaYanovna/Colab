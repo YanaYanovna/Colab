{
  "nbformat": 4,
  "nbformat_minor": 0,
  "metadata": {
    "colab": {
      "provenance": [],
      "include_colab_link": true
    },
    "kernelspec": {
      "display_name": "Python 3",
      "name": "python3"
    },
    "language_info": {
      "codemirror_mode": {
        "name": "ipython",
        "version": 3
      },
      "file_extension": ".py",
      "mimetype": "text/x-python",
      "name": "python",
      "nbconvert_exporter": "python",
      "pygments_lexer": "ipython3",
      "version": "3.6.8"
    }
  },
  "cells": [
    {
      "cell_type": "markdown",
      "metadata": {
        "id": "view-in-github",
        "colab_type": "text"
      },
      "source": [
        "<a href=\"https://colab.research.google.com/github/YanaYanovna/Colab/blob/main/%D0%9A%D0%BE%D0%BF%D0%B8%D1%8F_%D0%B1%D0%BB%D0%BE%D0%BA%D0%BD%D0%BE%D1%82%D0%B0_%22%5Bhomework_4_2_%5Dgame_of_thrones_prediction_ipynb%22.ipynb\" target=\"_parent\"><img src=\"https://colab.research.google.com/assets/colab-badge.svg\" alt=\"Open In Colab\"/></a>"
      ]
    },
    {
      "cell_type": "code",
      "source": [
        "import numpy as np\n",
        "import pandas as pd\n",
        "import matplotlib.pyplot as plt\n",
        "import seaborn as sns\n",
        "from sklearn.model_selection import train_test_split\n",
        "from sklearn.linear_model import LogisticRegression\n",
        "from sklearn.ensemble import RandomForestClassifier, AdaBoostClassifier\n",
        "from sklearn.gaussian_process import GaussianProcessClassifier\n",
        "from sklearn.naive_bayes import GaussianNB\n",
        "from sklearn.neighbors import KNeighborsClassifier\n",
        "from sklearn.svm import SVC\n",
        "from sklearn.tree import DecisionTreeClassifier\n",
        "from sklearn.metrics import accuracy_score\n",
        "from sklearn.preprocessing import MinMaxScaler\n",
        "from sklearn.preprocessing import StandardScaler\n",
        "from sklearn.model_selection import GridSearchCV\n",
        "from sklearn.metrics import make_scorer\n",
        "from sklearn.preprocessing import OneHotEncoder"
      ],
      "metadata": {
        "id": "QO08nAt6mO7E"
      },
      "execution_count": null,
      "outputs": []
    },
    {
      "cell_type": "code",
      "source": [
        "!gdown 1h99toeF7lZ2I3iJwehgKO-QQmDaOe_O3 # test dataset\n",
        "!gdown 1XL0VTygpZj-ZAuTNRBgApZTPQyNDnT-v # train dataset\n",
        "!gdown 1M14conWjAW2QLoyCXbHEAy8bql2f99eF"
      ],
      "metadata": {
        "id": "ajMi-8vUxsog",
        "colab": {
          "base_uri": "https://localhost:8080/"
        },
        "outputId": "cee4d73a-e9e5-425d-e249-5496a651b087"
      },
      "execution_count": null,
      "outputs": [
        {
          "output_type": "stream",
          "name": "stdout",
          "text": [
            "Downloading...\n",
            "From: https://drive.google.com/uc?id=1h99toeF7lZ2I3iJwehgKO-QQmDaOe_O3\n",
            "To: /content/game_of_thrones_test.csv\n",
            "100% 37.3k/37.3k [00:00<00:00, 42.9MB/s]\n",
            "Downloading...\n",
            "From: https://drive.google.com/uc?id=1XL0VTygpZj-ZAuTNRBgApZTPQyNDnT-v\n",
            "To: /content/game_of_thrones_train.csv\n",
            "100% 138k/138k [00:00<00:00, 23.6MB/s]\n",
            "Downloading...\n",
            "From: https://drive.google.com/uc?id=1M14conWjAW2QLoyCXbHEAy8bql2f99eF\n",
            "To: /content/submission.csv\n",
            "100% 2.74k/2.74k [00:00<00:00, 7.61MB/s]\n"
          ]
        }
      ]
    },
    {
      "cell_type": "code",
      "source": [
        "data = pd.read_csv('/content/game_of_thrones_train.csv', index_col='S.No')"
      ],
      "metadata": {
        "id": "v0HRU0trQLmS"
      },
      "execution_count": null,
      "outputs": []
    },
    {
      "cell_type": "code",
      "source": [
        "# Подсказка\n",
        "cult = {\n",
        "    'Summer Islands': ['summer islands', 'summer islander', 'summer isles'],\n",
        "    'Ghiscari': ['ghiscari', 'ghiscaricari',  'ghis'],\n",
        "    'Asshai': [\"asshai'i\", 'asshai'],\n",
        "    'Lysene': ['lysene', 'lyseni'],\n",
        "    'Andal': ['andal', 'andals'],\n",
        "    'Braavosi': ['braavosi', 'braavos'],\n",
        "    'Dornish': ['dornishmen', 'dorne', 'dornish'],\n",
        "    'Myrish': ['myr', 'myrish', 'myrmen'],\n",
        "    'Westermen': ['westermen', 'westerman', 'westerlands'],\n",
        "    'Westerosi': ['westeros', 'westerosi'],\n",
        "    'Stormlander': ['stormlands', 'stormlander'],\n",
        "    'Norvoshi': ['norvos', 'norvoshi'],\n",
        "    'Northmen': ['the north', 'northmen'],\n",
        "    'Free Folk': ['wildling', 'first men', 'free folk'],\n",
        "    'Qartheen': ['qartheen', 'qarth'],\n",
        "    'Reach': ['the reach', 'reach', 'reachmen'],\n",
        "}\n",
        "\n",
        "def simplify_culture(culture):\n",
        "    for key, values in cult.items():\n",
        "        if str(culture).lower() in values:\n",
        "            return key\n",
        "    return 'unknown'\n",
        "\n",
        "median_value = data['age'].median()\n",
        "columns_to_fill = ['isAliveMother', 'isAliveFather', 'isAliveHeir', 'isAliveSpouse']"
      ],
      "metadata": {
        "id": "bTKTcPAddBFw"
      },
      "execution_count": null,
      "outputs": []
    },
    {
      "cell_type": "code",
      "source": [
        "data['isPopular'] = data['popularity'].apply(lambda x: 1 if x > 0.5 else 0)\n",
        "data['boolDeadRelations'] = data['numDeadRelations'].apply(lambda x: 1 if x > 0 else 0)\n",
        "data['culture'] = data['culture'].apply(simplify_culture)\n",
        "data['age'] = data['age'].fillna(median_value)\n",
        "data[columns_to_fill] = data[columns_to_fill].fillna(0)\n",
        "data.drop(columns=['name', 'title', 'dateOfBirth', 'mother', 'father', 'heir', 'house', 'spouse', 'popularity', 'numDeadRelations'], inplace=True)"
      ],
      "metadata": {
        "id": "Pzc5a4enmYtn"
      },
      "execution_count": null,
      "outputs": []
    },
    {
      "cell_type": "code",
      "source": [
        "encoder = OneHotEncoder(sparse_output=False, dtype=float, handle_unknown='ignore')\n",
        "one_hot_encoded = encoder.fit_transform(data[['culture']])\n",
        "one_hot_df = pd.DataFrame(one_hot_encoded, columns=encoder.get_feature_names_out(), index=data.index)"
      ],
      "metadata": {
        "id": "hwlx9U_n3xoa"
      },
      "execution_count": null,
      "outputs": []
    },
    {
      "cell_type": "code",
      "source": [
        "data = pd.concat([data, one_hot_df], axis=1).drop('culture', axis=1)"
      ],
      "metadata": {
        "id": "TUYlw-0A9_VL"
      },
      "execution_count": null,
      "outputs": []
    },
    {
      "cell_type": "code",
      "source": [
        "X = data.drop(columns=['isAlive']).values\n",
        "y = data['isAlive'].values"
      ],
      "metadata": {
        "id": "5_rg7DQfatPu"
      },
      "execution_count": null,
      "outputs": []
    },
    {
      "cell_type": "code",
      "source": [
        "X_train, X_test, y_train, y_test = train_test_split(X, y, test_size=0.2, shuffle=True)"
      ],
      "metadata": {
        "id": "HASZhG6Pby5X"
      },
      "execution_count": null,
      "outputs": []
    },
    {
      "cell_type": "code",
      "source": [
        "scaler = StandardScaler()\n",
        "scaler.fit(X_train)\n",
        "X_train_scaled = scaler.transform(X_train)\n",
        "X_test_scaled = scaler.transform(X_test)"
      ],
      "metadata": {
        "id": "5g7-tSI3c0fP"
      },
      "execution_count": null,
      "outputs": []
    },
    {
      "cell_type": "markdown",
      "source": [
        "**Задание 2.1.** Импортируйте следующие модели из библиотеки `sklearn`\n",
        "* LogisticRegression\n",
        "* RandomForestClassifier\n",
        "* AdaBoostClassifier\n",
        "* GaussianProcessClassifier\n",
        "* GaussianNB\n",
        "* KNeighborsClassifier\n",
        "* SVC\n",
        "* DecisionTreeClassifier\n"
      ],
      "metadata": {
        "id": "R6924OYeaisZ"
      }
    },
    {
      "cell_type": "code",
      "source": [
        "model = RandomForestClassifier()\n",
        "model.fit(X_train_scaled, y_train)\n",
        "print(\"Accuracy на тренировочном наборе: %.4f\" % accuracy_score(y_train, model.predict(X_train_scaled)))\n",
        "print(\"Accuracy на тестовом наборе: %.4f\" % accuracy_score(y_test, model.predict(X_test_scaled)))"
      ],
      "metadata": {
        "id": "fsoHrG4wb8aw",
        "colab": {
          "base_uri": "https://localhost:8080/"
        },
        "outputId": "f796fb51-1132-454b-a0a5-c42bbd60435c"
      },
      "execution_count": null,
      "outputs": [
        {
          "output_type": "stream",
          "name": "stdout",
          "text": [
            "Accuracy на тренировочном наборе: 0.8867\n",
            "Accuracy на тестовом наборе: 0.8013\n"
          ]
        }
      ]
    },
    {
      "cell_type": "code",
      "source": [
        "model = RandomForestClassifier()\n",
        "\n",
        "param_grid = {\n",
        "    'max_depth': np.arange(1, 5),\n",
        "    'min_samples_leaf': np.arange(1, 4),\n",
        "    'n_estimators': [100, 1000]\n",
        "}\n",
        "\n",
        "gridsearch = GridSearchCV(model, param_grid, refit=True, scoring=make_scorer(accuracy_score))\n",
        "gridsearch.fit(X_train_scaled, y_train)\n",
        "\n",
        "print(gridsearch.best_params_)\n",
        "\n",
        "best_model = gridsearch.best_estimator_\n",
        "\n",
        "print(\"Accuracy на тренировочном наборе: %.4f\" % accuracy_score(y_train, best_model.predict(X_train_scaled)))\n",
        "print(\"Accuracy на тестовом наборе: %.4f\" % accuracy_score(y_test, best_model.predict(X_test_scaled)))"
      ],
      "metadata": {
        "colab": {
          "base_uri": "https://localhost:8080/"
        },
        "id": "hV1w-04CtHGq",
        "outputId": "2be9ca00-1ac7-4a95-933c-9bf7dcd5f0d1"
      },
      "execution_count": null,
      "outputs": [
        {
          "output_type": "stream",
          "name": "stdout",
          "text": [
            "{'max_depth': 4, 'min_samples_leaf': 2, 'n_estimators': 100}\n",
            "Accuracy на тренировочном наборе: 0.7960\n",
            "Accuracy на тестовом наборе: 0.8237\n"
          ]
        }
      ]
    },
    {
      "cell_type": "code",
      "source": [
        "scaler.fit(X)\n",
        "X_scaled = scaler.transform(X)"
      ],
      "metadata": {
        "id": "XTjIy7RbrsuS"
      },
      "execution_count": null,
      "outputs": []
    },
    {
      "cell_type": "code",
      "source": [
        "model = RandomForestClassifier(max_depth=4, min_samples_leaf=2, n_estimators=100)\n",
        "model.fit(X_scaled, y)\n",
        "print(\"Accuracy на тренировочном наборе: %.4f\" % accuracy_score(y, model.predict(X_scaled)))"
      ],
      "metadata": {
        "colab": {
          "base_uri": "https://localhost:8080/"
        },
        "id": "K7hNXwWwv08a",
        "outputId": "c616dbb5-6304-4092-b120-164ddc19e4a7"
      },
      "execution_count": null,
      "outputs": [
        {
          "output_type": "stream",
          "name": "stdout",
          "text": [
            "Accuracy на тренировочном наборе: 0.8048\n"
          ]
        }
      ]
    },
    {
      "cell_type": "code",
      "source": [
        "dat = pd.read_csv('/content/game_of_thrones_test.csv', index_col='S.No')"
      ],
      "metadata": {
        "id": "cr_0-UuENNm9"
      },
      "execution_count": null,
      "outputs": []
    },
    {
      "cell_type": "code",
      "source": [
        "dat['isPopular'] = dat['popularity'].apply(lambda x: 1 if x > 0.5 else 0)\n",
        "dat['boolDeadRelations'] = dat['numDeadRelations'].apply(lambda x: 1 if x > 0 else 0)\n",
        "dat['culture'] = dat['culture'].apply(simplify_culture)\n",
        "dat['age'] = dat['age'].fillna(median_value)\n",
        "dat[columns_to_fill] = dat[columns_to_fill].fillna(0)\n",
        "dat.drop(columns=['name', 'title', 'dateOfBirth', 'mother', 'father', 'heir', 'house', 'spouse', 'popularity', 'numDeadRelations'], inplace=True)"
      ],
      "metadata": {
        "id": "LiWGQJb3weHT"
      },
      "execution_count": null,
      "outputs": []
    },
    {
      "cell_type": "code",
      "source": [
        "one_hot_encode = encoder.fit_transform(dat[['culture']])\n",
        "one_hot_d = pd.DataFrame(one_hot_encode, columns=encoder.get_feature_names_out(), index=dat.index)"
      ],
      "metadata": {
        "id": "VoxQXKSuBJnK"
      },
      "execution_count": null,
      "outputs": []
    },
    {
      "cell_type": "code",
      "source": [
        "dat = pd.concat([dat, one_hot_d], axis=1).drop('culture', axis=1)"
      ],
      "metadata": {
        "id": "SWjMZ_ohBWY-"
      },
      "execution_count": null,
      "outputs": []
    },
    {
      "cell_type": "code",
      "source": [
        "Xx = dat.values"
      ],
      "metadata": {
        "id": "CuWKxdQWwd-x"
      },
      "execution_count": null,
      "outputs": []
    },
    {
      "cell_type": "code",
      "source": [
        "Xx_scaled = scaler.transform(Xx)"
      ],
      "metadata": {
        "id": "qYG9zJ_Owd7p"
      },
      "execution_count": null,
      "outputs": []
    },
    {
      "cell_type": "code",
      "source": [
        "pre = model.predict(Xx_scaled)"
      ],
      "metadata": {
        "id": "7ZLVknPYwdyR"
      },
      "execution_count": null,
      "outputs": []
    },
    {
      "cell_type": "code",
      "source": [
        "submission = pd.DataFrame(pre, index=dat.index, columns=['isAlive'])"
      ],
      "metadata": {
        "id": "ZtqPM-CzCQma"
      },
      "execution_count": null,
      "outputs": []
    },
    {
      "cell_type": "code",
      "source": [
        "# submission = pd.read_csv(\"/content/submission.csv\", index_col='S.No')"
      ],
      "metadata": {
        "id": "9ae_dGCf1Jpi"
      },
      "execution_count": null,
      "outputs": []
    },
    {
      "cell_type": "code",
      "source": [
        "submission.to_csv(\"/content/new_submission.csv\", index=False)"
      ],
      "metadata": {
        "id": "FdCgUj7Z1Oty"
      },
      "execution_count": null,
      "outputs": []
    },
    {
      "cell_type": "code",
      "source": [],
      "metadata": {
        "id": "LtyHcMxeOTld"
      },
      "execution_count": null,
      "outputs": []
    }
  ]
}